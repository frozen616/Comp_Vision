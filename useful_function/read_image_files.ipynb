{
 "cells": [
  {
   "cell_type": "code",
   "execution_count": null,
   "metadata": {},
   "outputs": [],
   "source": [
    "\n",
    "\n",
    "def read_image_files(image_path, conversion=cv2.COLOR_BGR2RGB, image_extensions = ['.JPG', '.JPEG', '.BMP', '.PNG']):\n",
    "    image_files = glob.glob(os.path.join(image_path, '*'))\n",
    "    image_files = [item for item in image_files if any([ext in item.upper() for ext in image_extensions])]\n",
    "    image_list = [(os.path.basename(f),cv2.imread(f, conversion)) for f in image_files]\n",
    "    image_dict = {file:image for (file,image) in image_list}\n",
    "    return image_dict"
   ]
  }
 ],
 "metadata": {
  "kernelspec": {
   "display_name": "Python 3",
   "language": "python",
   "name": "python3"
  },
  "language_info": {
   "codemirror_mode": {
    "name": "ipython",
    "version": 3
   },
   "file_extension": ".py",
   "mimetype": "text/x-python",
   "name": "python",
   "nbconvert_exporter": "python",
   "pygments_lexer": "ipython3",
   "version": "3.6.9"
  }
 },
 "nbformat": 4,
 "nbformat_minor": 4
}
