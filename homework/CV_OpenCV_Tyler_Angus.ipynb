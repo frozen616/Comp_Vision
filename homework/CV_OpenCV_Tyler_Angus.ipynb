{
 "cells": [
  {
   "cell_type": "raw",
   "metadata": {},
   "source": [
    "Assignment: CV_OpenCV_Morphological\n",
    "Student: Tyler T Angus\n",
    "Student ID: 108569134\n",
    "Class: Computer Vision"
   ]
  },
  {
   "cell_type": "code",
   "execution_count": 37,
   "metadata": {},
   "outputs": [
    {
     "name": "stdout",
     "output_type": "stream",
     "text": [
      "[3.9877e-05, 3.75e-05, 6.7758e-05, 0.000132162, 0.000265476, 0.000519057]\n",
      "[2.4495e-05, 3.5777e-05, 6.7046e-05, 0.000131016, 0.000266343, 0.000516333]\n"
     ]
    },
    {
     "data": {
      "image/png": "[encoded data removed]",
      "text/plain": [
       "<Figure size 432x288 with 1 Axes>"
      ]
     },
     "metadata": {
      "needs_background": "light"
     },
     "output_type": "display_data"
    }
   ],
   "source": [
    "\n",
    "import cv2\n",
    "import numpy as np\n",
    "import pylab\n",
    "from matplotlib import pyplot as plt\n",
    "\n",
    "img = cv2.imread('/home/CV/images/Picture1.jpg')\n",
    "\n",
    "\n",
    "\n",
    "kernel = np.array([[0,0,1,0,0],\n",
    "                  [0,0,1,1,0],\n",
    "                  [0,0,1,1,1],\n",
    "                  [0,0,1,1,0],\n",
    "                  [0,0,1,0,0]],dtype=np.uint8)\n",
    "\n",
    "def my_erosion(img, kernel, i):\n",
    "    erosion = cv2.erode(img,kernel,iterations = i)\n",
    "    return erosion\n",
    "\n",
    "def my_dilation(img,kernel,i):\n",
    "    dilation = cv2.dilate(img,kernel,iterations = i)\n",
    "    return dilation\n",
    "\n",
    "iters = [1,2,4,8,16,32]\n",
    "d_times = []\n",
    "e_times = []\n",
    "\n",
    "\n",
    "for i in iters:\n",
    "    e1 = cv2.getTickCount()\n",
    "    img1 = my_erosion(img,kernel,i)\n",
    "    e2 = cv2.getTickCount()\n",
    "    t = (e2 - e1)/cv2.getTickFrequency()\n",
    "    e_times.append(t)\n",
    "    \n",
    "for i in iters:\n",
    "    e1 = cv2.getTickCount()\n",
    "    img2 = my_dilation(img,kernel,i)\n",
    "    e2 = cv2.getTickCount()\n",
    "    t = (e2 - e1)/cv2.getTickFrequency()\n",
    "    d_times.append(t)\n",
    "    \n",
    "print(e_times)\n",
    "print(d_times)\n",
    "\n",
    "\n",
    "\n",
    "x = np.array([1,2,4,8,16,32])\n",
    "y = e_times\n",
    "y1 = d_times\n",
    "\n",
    "\n",
    "plt.plot(x,y,'b')\n",
    "plt.xlabel('Iterations')\n",
    "plt.ylabel('Time')\n",
    "plt.title('Execution Time')\n",
    "plt.plot(x,y1,'r')\n",
    "\n",
    "plt.show()\n",
    "\n",
    "\n",
    "\n",
    "\n"
   ]
  },
  {
   "cell_type": "raw",
   "metadata": {},
   "source": []
  },
  {
   "cell_type": "code",
   "execution_count": null,
   "metadata": {},
   "outputs": [],
   "source": []
  }
 ],
 "metadata": {
  "kernelspec": {
   "display_name": "Python 3",
   "language": "python",
   "name": "python3"
  },
  "language_info": {
   "codemirror_mode": {
    "name": "ipython",
    "version": 3
   },
   "file_extension": ".py",
   "mimetype": "text/x-python",
   "name": "python",
   "nbconvert_exporter": "python",
   "pygments_lexer": "ipython3",
   "version": "3.6.9"
  }
 },
 "nbformat": 4,
 "nbformat_minor": 4
}
