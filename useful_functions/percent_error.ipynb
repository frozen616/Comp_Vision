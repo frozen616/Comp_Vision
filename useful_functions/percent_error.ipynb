
#percent error function 
    #input = 2 lists of the same length 
    #output = 1 list containing percent error
def percent_error (approximate_values, exact_values): 
    percent_error = []
    for count,item in enumerate(approximate_values):
        percent_error.append((abs(approximate_values[count] - exact_values[count]) / abs(exact_values[count])) * 100)
    return percent_error
