{
 "cells": [
  {
   "cell_type": "code",
   "execution_count": null,
   "metadata": {},
   "outputs": [],
   "source": [
    "def generate_histogram(image_dict, number_bins):\n",
    "    histogram_dict = dict()\n",
    "    for filename in image_dict:\n",
    "        image = image_dict[filename]\n",
    "        hist0 = cv2.calcHist([image], [0], None, [number_bins], [0, 256])\n",
    "        hist1 = cv2.calcHist([image], [1], None, [number_bins], [0, 256])\n",
    "        hist2 = cv2.calcHist([image], [2], None, [number_bins], [0, 256])\n",
    "        overall_hist = np.concatenate([hist0, hist1, hist2]).ravel()\n",
    "        \n",
    "        hist = overall_hist / overall_hist.sum()\n",
    "        histogram_dict[filename] = hist\n",
    "    return histogram_dict"
   ]
  }
 ],
 "metadata": {
  "kernelspec": {
   "display_name": "Python 3",
   "language": "python",
   "name": "python3"
  },
  "language_info": {
   "codemirror_mode": {
    "name": "ipython",
    "version": 3
   },
   "file_extension": ".py",
   "mimetype": "text/x-python",
   "name": "python",
   "nbconvert_exporter": "python",
   "pygments_lexer": "ipython3",
   "version": "3.6.9"
  }
 },
 "nbformat": 4,
 "nbformat_minor": 4
}
