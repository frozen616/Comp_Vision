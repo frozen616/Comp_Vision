{
 "cells": [
  {
   "cell_type": "code",
   "execution_count": null,
   "metadata": {},
   "outputs": [],
   "source": [
    "\n",
    "\n",
    "\n",
    "\n",
    "#percent error function \n",
    "    #input = 2 lists of the same length \n",
    "    #output = 1 list containing percent error\n",
    "def percent_error (approximate_values, exact_values): \n",
    "    percent_error = []\n",
    "    for count,item in enumerate(approximate_values):\n",
    "        percent_error.append((abs(approximate_values[count] - exact_values[count]) / abs(exact_values[count])) * 100)\n",
    "    return percent_error\n"
   ]
  }
 ],
 "metadata": {
  "kernelspec": {
   "display_name": "Python 3",
   "language": "python",
   "name": "python3"
  },
  "language_info": {
   "codemirror_mode": {
    "name": "ipython",
    "version": 3
   },
   "file_extension": ".py",
   "mimetype": "text/x-python",
   "name": "python",
   "nbconvert_exporter": "python",
   "pygments_lexer": "ipython3",
   "version": "3.6.9"
  }
 },
 "nbformat": 4,
 "nbformat_minor": 4
}
